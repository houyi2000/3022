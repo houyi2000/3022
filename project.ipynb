{
 "cells": [
  {
   "cell_type": "markdown",
   "metadata": {},
   "source": [
    "# Over View"
   ]
  },
  {
   "cell_type": "markdown",
   "metadata": {},
   "source": [
    "This task is Microsoft Malware Prediction. It is mainly based on data preprocessing and machine learning methods to make accurate predictions to achieve data prediction of malware. The main difficulty of this task is the excessive amount of data. The total data is 7.9GB, which is far beyond the memory of ordinary computers, and memory errors are prone to occur. Therefore, in this processing, for the labeled data, only the first 1,000,000 rows are selected for processing to improve the efficiency and running time of data processing. At the same time, in order to compress the memory usage as much as possible, this task restricts the types of each data, so that the data can achieve the smallest memory footprint without changing its value. \n",
    "\n",
    "The model used in this task is XGBoost, which is a Boost model, generally composed of a series of decision trees, and its performance is very good. In the end, an AUC value of 0.72 was achieved on the selected data set, which is relatively good."
   ]
  },
  {
   "cell_type": "code",
   "execution_count": null,
   "metadata": {},
   "outputs": [],
   "source": [
    "Author: Yi Hou & Oliver He"
   ]
  },
  {
   "cell_type": "markdown",
   "metadata": {},
   "source": [
    "First, import the third-party libraries needed for this task, among which pandas and numpy are used for data processing, xgboost is the model used in this task, and other sklean libraries are used to assist data processing and model training."
   ]
  },
  {
   "cell_type": "code",
   "execution_count": 165,
   "metadata": {},
   "outputs": [],
   "source": [
    "from xgboost import XGBClassifier\n",
    "from sklearn.model_selection import GridSearchCV\n",
    "from sklearn.model_selection import train_test_split\n",
    "import warnings\n",
    "warnings.filterwarnings(\"ignore\")\n",
    "import numpy as np\n",
    "import pandas as pd\n",
    "from sklearn.metrics import roc_auc_score,f1_score,roc_curve\n",
    "import matplotlib.pyplot as plt\n",
    "import seaborn as sb"
   ]
  },
  {
   "cell_type": "markdown",
   "metadata": {},
   "source": [
    "Because the data dimension of this task is very high, there are 83 columns in total. After careful selection, 41 columns that I think may be useful are selected as the data set of this task"
   ]
  },
  {
   "cell_type": "code",
   "execution_count": 26,
   "metadata": {},
   "outputs": [],
   "source": [
    "features= [  \n",
    "    'AVProductStatesIdentifier'\n",
    "    ,'AVProductsEnabled'\n",
    "    ,'IsProtected'\n",
    "    ,'Processor'\n",
    "    ,'OsSuite'\n",
    "    ,'IsProtected'\n",
    "    ,'RtpStateBitfield'\n",
    "    ,'AVProductsInstalled'\n",
    "    ,'Wdft_IsGamer'\n",
    "    ,'DefaultBrowsersIdentifier'\n",
    "    ,'OsBuild'\n",
    "    ,'Wdft_RegionIdentifier'\n",
    "    ,'SmartScreen'\n",
    "    ,'CityIdentifier'\n",
    "    ,'AppVersion'\n",
    "    ,'Census_IsSecureBootEnabled'\n",
    "    ,'Census_PrimaryDiskTypeName'\n",
    "    ,'Census_SystemVolumeTotalCapacity'\n",
    "    ,'Census_HasOpticalDiskDrive'\n",
    "    ,'Census_IsWIMBootEnabled'\n",
    "    ,'Census_IsVirtualDevice'\n",
    "    ,'Census_IsTouchEnabled'\n",
    "    ,'Census_FirmwareVersionIdentifier'\n",
    "    ,'GeoNameIdentifier'\n",
    "    ,'IeVerIdentifier'\n",
    "    ,'Census_FirmwareManufacturerIdentifier'\n",
    "    ,'Census_InternalPrimaryDisplayResolutionHorizontal'\n",
    "    ,'Census_InternalPrimaryDisplayResolutionVertical'\n",
    "    ,'Census_OEMModelIdentifier'\n",
    "    ,'Census_ProcessorModelIdentifier'\n",
    "    ,'Census_OSVersion'\n",
    "    ,'Census_InternalPrimaryDiagonalDisplaySizeInInches'\n",
    "    ,'Census_OEMNameIdentifier'\n",
    "    ,'Census_ChassisTypeName'\n",
    "    ,'Census_OSInstallLanguageIdentifier'\n",
    "    ,'EngineVersion'\n",
    "    ,'OrganizationIdentifier' \n",
    "    ,'CountryIdentifier'   \n",
    "    ,'Census_ActivationChannel'\n",
    "    ,'Census_ProcessorCoreCount'\n",
    "    ,'Census_OSWUAutoUpdateOptionsName'\n",
    "    ,'Census_InternalBatteryType'\n",
    "    ]"
   ]
  },
  {
   "cell_type": "markdown",
   "metadata": {},
   "source": [
    "In order to minimize the use of memory, give each column of data a fixed and as small data type as possible."
   ]
  },
  {
   "cell_type": "code",
   "execution_count": 27,
   "metadata": {},
   "outputs": [],
   "source": [
    "dtypes = {\n",
    "        'MachineIdentifier':                                    'category',\n",
    "        'ProductName':                                          'category',\n",
    "        'EngineVersion':                                        'category',\n",
    "        'AppVersion':                                           'category',\n",
    "        'AvSigVersion':                                         'category',\n",
    "        'IsBeta':                                               'int8',\n",
    "        'RtpStateBitfield':                                     'float16',\n",
    "        'IsSxsPassiveMode':                                     'int8',\n",
    "        'DefaultBrowsersIdentifier':                            'float16',\n",
    "        'AVProductStatesIdentifier':                            'float32',\n",
    "        'AVProductsInstalled':                                  'float16',\n",
    "        'AVProductsEnabled':                                    'float16',\n",
    "        'HasTpm':                                               'int8',\n",
    "        'CountryIdentifier':                                    'int16',\n",
    "        'CityIdentifier':                                       'float32',\n",
    "        'OrganizationIdentifier':                               'float16',\n",
    "        'GeoNameIdentifier':                                    'float16',\n",
    "        'LocaleEnglishNameIdentifier':                          'int8',\n",
    "        'Platform':                                             'category',\n",
    "        'Processor':                                            'category',\n",
    "        'OsVer':                                                'category',\n",
    "        'OsBuild':                                              'int16',\n",
    "        'OsSuite':                                              'int16',\n",
    "        'OsPlatformSubRelease':                                 'category',\n",
    "        'OsBuildLab':                                           'category',\n",
    "        'SkuEdition':                                           'category',\n",
    "        'IsProtected':                                          'float16',\n",
    "        'AutoSampleOptIn':                                      'int8',\n",
    "        'PuaMode':                                              'category',\n",
    "        'SMode':                                                'float16',\n",
    "        'IeVerIdentifier':                                      'float16',\n",
    "        'SmartScreen':                                          'category',\n",
    "        'Firewall':                                             'float16',\n",
    "        'UacLuaenable':                                         'float32',\n",
    "        'Census_MDC2FormFactor':                                'category',\n",
    "        'Census_DeviceFamily':                                  'category',\n",
    "        'Census_OEMNameIdentifier':                             'float16',\n",
    "        'Census_OEMModelIdentifier':                            'float32',\n",
    "        'Census_ProcessorCoreCount':                            'float16',\n",
    "        'Census_ProcessorManufacturerIdentifier':               'float16',\n",
    "        'Census_ProcessorModelIdentifier':                      'float16',\n",
    "        'Census_ProcessorClass':                                'category',\n",
    "        'Census_PrimaryDiskTotalCapacity':                      'float32',\n",
    "        'Census_PrimaryDiskTypeName':                           'category',\n",
    "        'Census_SystemVolumeTotalCapacity':                     'float32',\n",
    "        'Census_HasOpticalDiskDrive':                           'int8',\n",
    "        'Census_TotalPhysicalRAM':                              'float32',\n",
    "        'Census_ChassisTypeName':                               'category',\n",
    "        'Census_InternalPrimaryDiagonalDisplaySizeInInches':    'float16',\n",
    "        'Census_InternalPrimaryDisplayResolutionHorizontal':    'float16',\n",
    "        'Census_InternalPrimaryDisplayResolutionVertical':      'float16',\n",
    "        'Census_PowerPlatformRoleName':                         'category',\n",
    "        'Census_InternalBatteryType':                           'category',\n",
    "        'Census_InternalBatteryNumberOfCharges':                'float32',\n",
    "        'Census_OSVersion':                                     'category',\n",
    "        'Census_OSArchitecture':                                'category',\n",
    "        'Census_OSBranch':                                      'category',\n",
    "        'Census_OSBuildNumber':                                 'int16',\n",
    "        'Census_OSBuildRevision':                               'int32',\n",
    "        'Census_OSEdition':                                     'category',\n",
    "        'Census_OSSkuName':                                     'category',\n",
    "        'Census_OSInstallTypeName':                             'category',\n",
    "        'Census_OSInstallLanguageIdentifier':                   'float16',\n",
    "        'Census_OSUILocaleIdentifier':                          'int16',\n",
    "        'Census_OSWUAutoUpdateOptionsName':                     'category',\n",
    "        'Census_IsPortableOperatingSystem':                     'int8',\n",
    "        'Census_GenuineStateName':                              'category',\n",
    "        'Census_ActivationChannel':                             'category',\n",
    "        'Census_IsFlightingInternal':                           'float16',\n",
    "        'Census_IsFlightsDisabled':                             'float16',\n",
    "        'Census_FlightRing':                                    'category',\n",
    "        'Census_ThresholdOptIn':                                'float16',\n",
    "        'Census_FirmwareManufacturerIdentifier':                'float16',\n",
    "        'Census_FirmwareVersionIdentifier':                     'float32',\n",
    "        'Census_IsSecureBootEnabled':                           'int8',\n",
    "        'Census_IsWIMBootEnabled':                              'float16',\n",
    "        'Census_IsVirtualDevice':                               'float16',\n",
    "        'Census_IsTouchEnabled':                                'int8',\n",
    "        'Census_IsPenCapable':                                  'int8',\n",
    "        'Census_IsAlwaysOnAlwaysConnectedCapable':              'float16',\n",
    "        'Wdft_IsGamer':                                         'float16',\n",
    "        'Wdft_RegionIdentifier':                                'float16',\n",
    "        'HasDetections':                                        'int8'\n",
    "        }"
   ]
  },
  {
   "cell_type": "markdown",
   "metadata": {},
   "source": [
    "Read the data.\n",
    "\n",
    "Due to the large amount of data, the computer memory cannot be read in all, so only the first 1,000,000 rows were selected as the data set used in this task."
   ]
  },
  {
   "cell_type": "code",
   "execution_count": 55,
   "metadata": {},
   "outputs": [],
   "source": [
    "train_x=pd.read_csv('train.csv', dtype=dtypes,usecols=features,low_memory=True, nrows = 1000000)\n",
    "label=pd.read_csv('train.csv', usecols = ['HasDetections'], nrows =1000000)\n",
    "test_x = pd.read_csv('test.csv',dtype=dtypes, usecols=features, low_memory=True) "
   ]
  },
  {
   "cell_type": "code",
   "execution_count": 56,
   "metadata": {},
   "outputs": [
    {
     "data": {
      "text/plain": [
       "(1000000, 41)"
      ]
     },
     "execution_count": 56,
     "metadata": {},
     "output_type": "execute_result"
    }
   ],
   "source": [
    "train_x.shape"
   ]
  },
  {
   "cell_type": "code",
   "execution_count": 57,
   "metadata": {},
   "outputs": [
    {
     "data": {
      "text/plain": [
       "(7853253, 41)"
      ]
     },
     "execution_count": 57,
     "metadata": {},
     "output_type": "execute_result"
    }
   ],
   "source": [
    "test_x.shape"
   ]
  },
  {
   "cell_type": "markdown",
   "metadata": {},
   "source": [
    "In order to make the data consistent, combine test and train, and do data preprocessing at the same time"
   ]
  },
  {
   "cell_type": "code",
   "execution_count": 58,
   "metadata": {},
   "outputs": [
    {
     "data": {
      "text/plain": [
       "(8853253, 41)"
      ]
     },
     "execution_count": 58,
     "metadata": {},
     "output_type": "execute_result"
    }
   ],
   "source": [
    "total_x=train_x.append(test_x)\n",
    "total_x.shape"
   ]
  },
  {
   "cell_type": "markdown",
   "metadata": {},
   "source": [
    "Reset index"
   ]
  },
  {
   "cell_type": "code",
   "execution_count": 59,
   "metadata": {},
   "outputs": [],
   "source": [
    "total_x=total_x.reset_index(drop=True)"
   ]
  },
  {
   "cell_type": "markdown",
   "metadata": {},
   "source": [
    "Data cleaning\n",
    "\n",
    "Check the data composition of this column,"
   ]
  },
  {
   "cell_type": "code",
   "execution_count": 60,
   "metadata": {},
   "outputs": [
    {
     "data": {
      "text/plain": [
       "RequireAdmin     7.796222e-01\n",
       "ExistsNotSet     1.436288e-01\n",
       "Off              3.648456e-02\n",
       "Warn             2.821823e-02\n",
       "Prompt           6.539811e-03\n",
       "Block            4.758681e-03\n",
       "off              3.862715e-04\n",
       "On               1.752325e-04\n",
       "&#x02;           8.941656e-05\n",
       "&#x01;           6.121134e-05\n",
       "on               2.980552e-05\n",
       "requireadmin     2.000370e-06\n",
       "OFF              1.600296e-06\n",
       "0                6.001111e-07\n",
       "Promt            2.000370e-07\n",
       "ON               2.000370e-07\n",
       "of               2.000370e-07\n",
       "RequiredAdmin    2.000370e-07\n",
       "Deny             2.000370e-07\n",
       "warn             2.000370e-07\n",
       "Promprt          2.000370e-07\n",
       "BLOCK            2.000370e-07\n",
       "Name: SmartScreen, dtype: float64"
      ]
     },
     "execution_count": 60,
     "metadata": {},
     "output_type": "execute_result"
    }
   ],
   "source": [
    "total_x.SmartScreen.value_counts(1)"
   ]
  },
  {
   "cell_type": "markdown",
   "metadata": {},
   "source": [
    "You can see that there are uppercase and lowercase letters in the data, but the meaning of uppercase and lowercase is the same, so convert them all to lowercase letters"
   ]
  },
  {
   "cell_type": "code",
   "execution_count": 61,
   "metadata": {},
   "outputs": [],
   "source": [
    "total_x.SmartScreen=total_x.SmartScreen.str.lower()"
   ]
  },
  {
   "cell_type": "code",
   "execution_count": 62,
   "metadata": {},
   "outputs": [
    {
     "data": {
      "text/plain": [
       "requireadmin     3897399\n",
       "existsnotset      718011\n",
       "off               184328\n",
       "warn              141066\n",
       "prompt             32693\n",
       "block              23790\n",
       "on                  1026\n",
       "&#x02;               447\n",
       "&#x01;               306\n",
       "0                      3\n",
       "of                     1\n",
       "deny                   1\n",
       "requiredadmin          1\n",
       "promprt                1\n",
       "promt                  1\n",
       "Name: SmartScreen, dtype: int64"
      ]
     },
     "execution_count": 62,
     "metadata": {},
     "output_type": "execute_result"
    }
   ],
   "source": [
    "total_x.SmartScreen.value_counts()"
   ]
  },
  {
   "cell_type": "markdown",
   "metadata": {},
   "source": [
    "Convert the abnormal data into reasonable data"
   ]
  },
  {
   "cell_type": "code",
   "execution_count": 63,
   "metadata": {},
   "outputs": [],
   "source": [
    "smartscreen_map={\n",
    "    'of':'off',\n",
    "    '0':'off',\n",
    "    'promprt':'prompt',\n",
    "    'promt':'prompt',\n",
    "    'requiredadmin':'requireadmin',\n",
    "    'deny':'block',\n",
    "}"
   ]
  },
  {
   "cell_type": "code",
   "execution_count": 64,
   "metadata": {},
   "outputs": [],
   "source": [
    "total_x.SmartScreen=total_x.SmartScreen.apply(lambda x:smartscreen_map[x] if x in smartscreen_map.keys() else x)"
   ]
  },
  {
   "cell_type": "code",
   "execution_count": 65,
   "metadata": {},
   "outputs": [
    {
     "data": {
      "text/plain": [
       "requireadmin    3897400\n",
       "existsnotset     718011\n",
       "off              184332\n",
       "warn             141066\n",
       "prompt            32695\n",
       "block             23791\n",
       "on                 1026\n",
       "&#x02;              447\n",
       "&#x01;              306\n",
       "Name: SmartScreen, dtype: int64"
      ]
     },
     "execution_count": 65,
     "metadata": {},
     "output_type": "execute_result"
    }
   ],
   "source": [
    "total_x.SmartScreen.value_counts()"
   ]
  },
  {
   "cell_type": "markdown",
   "metadata": {},
   "source": [
    "Check the processed data"
   ]
  },
  {
   "cell_type": "code",
   "execution_count": 66,
   "metadata": {},
   "outputs": [
    {
     "data": {
      "text/html": [
       "<div>\n",
       "<style scoped>\n",
       "    .dataframe tbody tr th:only-of-type {\n",
       "        vertical-align: middle;\n",
       "    }\n",
       "\n",
       "    .dataframe tbody tr th {\n",
       "        vertical-align: top;\n",
       "    }\n",
       "\n",
       "    .dataframe thead th {\n",
       "        text-align: right;\n",
       "    }\n",
       "</style>\n",
       "<table border=\"1\" class=\"dataframe\">\n",
       "  <thead>\n",
       "    <tr style=\"text-align: right;\">\n",
       "      <th></th>\n",
       "      <th>EngineVersion</th>\n",
       "      <th>AppVersion</th>\n",
       "      <th>RtpStateBitfield</th>\n",
       "      <th>DefaultBrowsersIdentifier</th>\n",
       "      <th>AVProductStatesIdentifier</th>\n",
       "      <th>AVProductsInstalled</th>\n",
       "      <th>AVProductsEnabled</th>\n",
       "      <th>CountryIdentifier</th>\n",
       "      <th>CityIdentifier</th>\n",
       "      <th>OrganizationIdentifier</th>\n",
       "      <th>...</th>\n",
       "      <th>Census_OSWUAutoUpdateOptionsName</th>\n",
       "      <th>Census_ActivationChannel</th>\n",
       "      <th>Census_FirmwareManufacturerIdentifier</th>\n",
       "      <th>Census_FirmwareVersionIdentifier</th>\n",
       "      <th>Census_IsSecureBootEnabled</th>\n",
       "      <th>Census_IsWIMBootEnabled</th>\n",
       "      <th>Census_IsVirtualDevice</th>\n",
       "      <th>Census_IsTouchEnabled</th>\n",
       "      <th>Wdft_IsGamer</th>\n",
       "      <th>Wdft_RegionIdentifier</th>\n",
       "    </tr>\n",
       "  </thead>\n",
       "  <tbody>\n",
       "    <tr>\n",
       "      <th>0</th>\n",
       "      <td>1.1.15100.1</td>\n",
       "      <td>4.18.1807.18075</td>\n",
       "      <td>7.0</td>\n",
       "      <td>NaN</td>\n",
       "      <td>53447.0</td>\n",
       "      <td>1.0</td>\n",
       "      <td>1.0</td>\n",
       "      <td>29</td>\n",
       "      <td>128035.0</td>\n",
       "      <td>18.0</td>\n",
       "      <td>...</td>\n",
       "      <td>UNKNOWN</td>\n",
       "      <td>Retail</td>\n",
       "      <td>628.0</td>\n",
       "      <td>36144.0</td>\n",
       "      <td>0</td>\n",
       "      <td>NaN</td>\n",
       "      <td>0.0</td>\n",
       "      <td>0</td>\n",
       "      <td>0.0</td>\n",
       "      <td>10.0</td>\n",
       "    </tr>\n",
       "    <tr>\n",
       "      <th>1</th>\n",
       "      <td>1.1.14600.4</td>\n",
       "      <td>4.13.17134.1</td>\n",
       "      <td>7.0</td>\n",
       "      <td>NaN</td>\n",
       "      <td>53447.0</td>\n",
       "      <td>1.0</td>\n",
       "      <td>1.0</td>\n",
       "      <td>93</td>\n",
       "      <td>1482.0</td>\n",
       "      <td>18.0</td>\n",
       "      <td>...</td>\n",
       "      <td>UNKNOWN</td>\n",
       "      <td>Retail</td>\n",
       "      <td>628.0</td>\n",
       "      <td>57858.0</td>\n",
       "      <td>0</td>\n",
       "      <td>NaN</td>\n",
       "      <td>0.0</td>\n",
       "      <td>0</td>\n",
       "      <td>0.0</td>\n",
       "      <td>8.0</td>\n",
       "    </tr>\n",
       "    <tr>\n",
       "      <th>2</th>\n",
       "      <td>1.1.15100.1</td>\n",
       "      <td>4.18.1807.18075</td>\n",
       "      <td>7.0</td>\n",
       "      <td>NaN</td>\n",
       "      <td>53447.0</td>\n",
       "      <td>1.0</td>\n",
       "      <td>1.0</td>\n",
       "      <td>86</td>\n",
       "      <td>153579.0</td>\n",
       "      <td>18.0</td>\n",
       "      <td>...</td>\n",
       "      <td>FullAuto</td>\n",
       "      <td>OEM:NONSLP</td>\n",
       "      <td>142.0</td>\n",
       "      <td>52682.0</td>\n",
       "      <td>0</td>\n",
       "      <td>NaN</td>\n",
       "      <td>0.0</td>\n",
       "      <td>0</td>\n",
       "      <td>0.0</td>\n",
       "      <td>3.0</td>\n",
       "    </tr>\n",
       "    <tr>\n",
       "      <th>3</th>\n",
       "      <td>1.1.15100.1</td>\n",
       "      <td>4.18.1807.18075</td>\n",
       "      <td>7.0</td>\n",
       "      <td>NaN</td>\n",
       "      <td>53447.0</td>\n",
       "      <td>1.0</td>\n",
       "      <td>1.0</td>\n",
       "      <td>88</td>\n",
       "      <td>20710.0</td>\n",
       "      <td>NaN</td>\n",
       "      <td>...</td>\n",
       "      <td>FullAuto</td>\n",
       "      <td>OEM:NONSLP</td>\n",
       "      <td>355.0</td>\n",
       "      <td>20050.0</td>\n",
       "      <td>0</td>\n",
       "      <td>NaN</td>\n",
       "      <td>0.0</td>\n",
       "      <td>0</td>\n",
       "      <td>0.0</td>\n",
       "      <td>3.0</td>\n",
       "    </tr>\n",
       "    <tr>\n",
       "      <th>4</th>\n",
       "      <td>1.1.15100.1</td>\n",
       "      <td>4.18.1807.18075</td>\n",
       "      <td>7.0</td>\n",
       "      <td>NaN</td>\n",
       "      <td>53447.0</td>\n",
       "      <td>1.0</td>\n",
       "      <td>1.0</td>\n",
       "      <td>18</td>\n",
       "      <td>37376.0</td>\n",
       "      <td>NaN</td>\n",
       "      <td>...</td>\n",
       "      <td>FullAuto</td>\n",
       "      <td>Retail</td>\n",
       "      <td>355.0</td>\n",
       "      <td>19844.0</td>\n",
       "      <td>0</td>\n",
       "      <td>0.0</td>\n",
       "      <td>0.0</td>\n",
       "      <td>0</td>\n",
       "      <td>0.0</td>\n",
       "      <td>1.0</td>\n",
       "    </tr>\n",
       "  </tbody>\n",
       "</table>\n",
       "<p>5 rows × 41 columns</p>\n",
       "</div>"
      ],
      "text/plain": [
       "  EngineVersion       AppVersion  RtpStateBitfield  DefaultBrowsersIdentifier  \\\n",
       "0   1.1.15100.1  4.18.1807.18075               7.0                        NaN   \n",
       "1   1.1.14600.4     4.13.17134.1               7.0                        NaN   \n",
       "2   1.1.15100.1  4.18.1807.18075               7.0                        NaN   \n",
       "3   1.1.15100.1  4.18.1807.18075               7.0                        NaN   \n",
       "4   1.1.15100.1  4.18.1807.18075               7.0                        NaN   \n",
       "\n",
       "   AVProductStatesIdentifier  AVProductsInstalled  AVProductsEnabled  \\\n",
       "0                    53447.0                  1.0                1.0   \n",
       "1                    53447.0                  1.0                1.0   \n",
       "2                    53447.0                  1.0                1.0   \n",
       "3                    53447.0                  1.0                1.0   \n",
       "4                    53447.0                  1.0                1.0   \n",
       "\n",
       "   CountryIdentifier  CityIdentifier  OrganizationIdentifier  \\\n",
       "0                 29        128035.0                    18.0   \n",
       "1                 93          1482.0                    18.0   \n",
       "2                 86        153579.0                    18.0   \n",
       "3                 88         20710.0                     NaN   \n",
       "4                 18         37376.0                     NaN   \n",
       "\n",
       "           ...            Census_OSWUAutoUpdateOptionsName  \\\n",
       "0          ...                                     UNKNOWN   \n",
       "1          ...                                     UNKNOWN   \n",
       "2          ...                                    FullAuto   \n",
       "3          ...                                    FullAuto   \n",
       "4          ...                                    FullAuto   \n",
       "\n",
       "  Census_ActivationChannel  Census_FirmwareManufacturerIdentifier  \\\n",
       "0                   Retail                                  628.0   \n",
       "1                   Retail                                  628.0   \n",
       "2               OEM:NONSLP                                  142.0   \n",
       "3               OEM:NONSLP                                  355.0   \n",
       "4                   Retail                                  355.0   \n",
       "\n",
       "   Census_FirmwareVersionIdentifier  Census_IsSecureBootEnabled  \\\n",
       "0                           36144.0                           0   \n",
       "1                           57858.0                           0   \n",
       "2                           52682.0                           0   \n",
       "3                           20050.0                           0   \n",
       "4                           19844.0                           0   \n",
       "\n",
       "   Census_IsWIMBootEnabled Census_IsVirtualDevice  Census_IsTouchEnabled  \\\n",
       "0                      NaN                    0.0                      0   \n",
       "1                      NaN                    0.0                      0   \n",
       "2                      NaN                    0.0                      0   \n",
       "3                      NaN                    0.0                      0   \n",
       "4                      0.0                    0.0                      0   \n",
       "\n",
       "   Wdft_IsGamer  Wdft_RegionIdentifier  \n",
       "0           0.0                   10.0  \n",
       "1           0.0                    8.0  \n",
       "2           0.0                    3.0  \n",
       "3           0.0                    3.0  \n",
       "4           0.0                    1.0  \n",
       "\n",
       "[5 rows x 41 columns]"
      ]
     },
     "execution_count": 66,
     "metadata": {},
     "output_type": "execute_result"
    }
   ],
   "source": [
    "total_x.head()"
   ]
  },
  {
   "cell_type": "code",
   "execution_count": 68,
   "metadata": {},
   "outputs": [
    {
     "name": "stdout",
     "output_type": "stream",
     "text": [
      "<class 'pandas.core.frame.DataFrame'>\n",
      "RangeIndex: 8853253 entries, 0 to 8853252\n",
      "Data columns (total 41 columns):\n",
      "EngineVersion                                        object\n",
      "AppVersion                                           object\n",
      "RtpStateBitfield                                     float16\n",
      "DefaultBrowsersIdentifier                            float16\n",
      "AVProductStatesIdentifier                            float32\n",
      "AVProductsInstalled                                  float16\n",
      "AVProductsEnabled                                    float16\n",
      "CountryIdentifier                                    int16\n",
      "CityIdentifier                                       float32\n",
      "OrganizationIdentifier                               float16\n",
      "GeoNameIdentifier                                    float16\n",
      "Processor                                            category\n",
      "OsBuild                                              int16\n",
      "OsSuite                                              int16\n",
      "IsProtected                                          float16\n",
      "IeVerIdentifier                                      float16\n",
      "SmartScreen                                          object\n",
      "Census_OEMNameIdentifier                             float16\n",
      "Census_OEMModelIdentifier                            float32\n",
      "Census_ProcessorCoreCount                            float16\n",
      "Census_ProcessorModelIdentifier                      float16\n",
      "Census_PrimaryDiskTypeName                           category\n",
      "Census_SystemVolumeTotalCapacity                     float32\n",
      "Census_HasOpticalDiskDrive                           int8\n",
      "Census_ChassisTypeName                               object\n",
      "Census_InternalPrimaryDiagonalDisplaySizeInInches    float16\n",
      "Census_InternalPrimaryDisplayResolutionHorizontal    float16\n",
      "Census_InternalPrimaryDisplayResolutionVertical      float16\n",
      "Census_InternalBatteryType                           object\n",
      "Census_OSVersion                                     object\n",
      "Census_OSInstallLanguageIdentifier                   float16\n",
      "Census_OSWUAutoUpdateOptionsName                     category\n",
      "Census_ActivationChannel                             category\n",
      "Census_FirmwareManufacturerIdentifier                float16\n",
      "Census_FirmwareVersionIdentifier                     float32\n",
      "Census_IsSecureBootEnabled                           int8\n",
      "Census_IsWIMBootEnabled                              float16\n",
      "Census_IsVirtualDevice                               float16\n",
      "Census_IsTouchEnabled                                int8\n",
      "Wdft_IsGamer                                         float16\n",
      "Wdft_RegionIdentifier                                float16\n",
      "dtypes: category(4), float16(20), float32(5), int16(3), int8(3), object(6)\n",
      "memory usage: 1021.6+ MB\n"
     ]
    }
   ],
   "source": [
    "total_x.info()"
   ]
  },
  {
   "cell_type": "markdown",
   "metadata": {},
   "source": [
    "Check the direct correlation coefficient of each variable and use the heatmap to show it. It can be seen that the overall correlation coefficient is low, and there are few very high correlation coefficients.\n",
    "\n",
    "This shows that these data are directly irreplaceable."
   ]
  },
  {
   "cell_type": "code",
   "execution_count": 166,
   "metadata": {},
   "outputs": [],
   "source": [
    "corr=total_x.corr()"
   ]
  },
  {
   "cell_type": "code",
   "execution_count": 168,
   "metadata": {},
   "outputs": [
    {
     "data": {
      "text/plain": [
       "<matplotlib.axes._subplots.AxesSubplot at 0x1dbbbdede10>"
      ]
     },
     "execution_count": 168,
     "metadata": {},
     "output_type": "execute_result"
    },
    {
     "data": {
      "image/png": "[encoded data removed]",
      "text/plain": [
       "<Figure size 1152x1152 with 2 Axes>"
      ]
     },
     "metadata": {
      "needs_background": "light"
     },
     "output_type": "display_data"
    }
   ],
   "source": [
    "plt.figure(figsize=(16,16))\n",
    "sb.heatmap(corr)"
   ]
  },
  {
   "cell_type": "code",
   "execution_count": null,
   "metadata": {},
   "outputs": [],
   "source": []
  },
  {
   "cell_type": "code",
   "execution_count": null,
   "metadata": {},
   "outputs": [],
   "source": []
  },
  {
   "cell_type": "markdown",
   "metadata": {},
   "source": [
    "Since non-numeric data cannot participate in calculations, it is necessary to convert non-numeric data into numeric data.\n",
    "\n",
    "First find the non-numeric column"
   ]
  },
  {
   "cell_type": "code",
   "execution_count": 84,
   "metadata": {},
   "outputs": [],
   "source": [
    "object_columns=total_x.select_dtypes(exclude=np.number).columns"
   ]
  },
  {
   "cell_type": "code",
   "execution_count": 86,
   "metadata": {},
   "outputs": [
    {
     "data": {
      "text/plain": [
       "Index(['EngineVersion', 'AppVersion', 'Processor', 'SmartScreen',\n",
       "       'Census_PrimaryDiskTypeName', 'Census_ChassisTypeName',\n",
       "       'Census_InternalBatteryType', 'Census_OSVersion',\n",
       "       'Census_OSWUAutoUpdateOptionsName', 'Census_ActivationChannel'],\n",
       "      dtype='object')"
      ]
     },
     "execution_count": 86,
     "metadata": {},
     "output_type": "execute_result"
    }
   ],
   "source": [
    "object_columns"
   ]
  },
  {
   "cell_type": "markdown",
   "metadata": {},
   "source": [
    "Convert non-numeric columns to their data statistics"
   ]
  },
  {
   "cell_type": "code",
   "execution_count": 87,
   "metadata": {},
   "outputs": [],
   "source": [
    "for c in object_columns:\n",
    "    total_x[c]=total_x[c].map(total_x[c].value_counts())"
   ]
  },
  {
   "cell_type": "code",
   "execution_count": 88,
   "metadata": {},
   "outputs": [
    {
     "data": {
      "text/plain": [
       "(8853253, 41)"
      ]
     },
     "execution_count": 88,
     "metadata": {},
     "output_type": "execute_result"
    }
   ],
   "source": [
    "total_x.shape"
   ]
  },
  {
   "cell_type": "markdown",
   "metadata": {},
   "source": [
    "Check the data information after conversion"
   ]
  },
  {
   "cell_type": "code",
   "execution_count": 91,
   "metadata": {},
   "outputs": [
    {
     "name": "stdout",
     "output_type": "stream",
     "text": [
      "<class 'pandas.core.frame.DataFrame'>\n",
      "RangeIndex: 8853253 entries, 0 to 8853252\n",
      "Data columns (total 41 columns):\n",
      "EngineVersion                                        8853253 non-null int64\n",
      "AppVersion                                           8853253 non-null int64\n",
      "RtpStateBitfield                                     8817365 non-null float16\n",
      "DefaultBrowsersIdentifier                            355422 non-null float16\n",
      "AVProductStatesIdentifier                            8825393 non-null float32\n",
      "AVProductsInstalled                                  8825393 non-null float16\n",
      "AVProductsEnabled                                    8825393 non-null float16\n",
      "CountryIdentifier                                    8853253 non-null int16\n",
      "CityIdentifier                                       8624778 non-null float32\n",
      "OrganizationIdentifier                               6062188 non-null float16\n",
      "GeoNameIdentifier                                    8853087 non-null float16\n",
      "Processor                                            8853253 non-null int64\n",
      "OsBuild                                              8853253 non-null int16\n",
      "OsSuite                                              8853253 non-null int16\n",
      "IsProtected                                          8825528 non-null float16\n",
      "IeVerIdentifier                                      8796804 non-null float16\n",
      "SmartScreen                                          4999074 non-null float64\n",
      "Census_OEMNameIdentifier                             8753180 non-null float16\n",
      "Census_OEMModelIdentifier                            8746005 non-null float32\n",
      "Census_ProcessorCoreCount                            8787344 non-null float16\n",
      "Census_ProcessorModelIdentifier                      8787301 non-null float16\n",
      "Census_PrimaryDiskTypeName                           8844990 non-null float64\n",
      "Census_SystemVolumeTotalCapacity                     8772682 non-null float32\n",
      "Census_HasOpticalDiskDrive                           8853253 non-null int8\n",
      "Census_ChassisTypeName                               8852851 non-null float64\n",
      "Census_InternalPrimaryDiagonalDisplaySizeInInches    8805262 non-null float16\n",
      "Census_InternalPrimaryDisplayResolutionHorizontal    8805370 non-null float16\n",
      "Census_InternalPrimaryDisplayResolutionVertical      8805370 non-null float16\n",
      "Census_InternalBatteryType                           2163579 non-null float64\n",
      "Census_OSVersion                                     8853253 non-null int64\n",
      "Census_OSInstallLanguageIdentifier                   8787810 non-null float16\n",
      "Census_OSWUAutoUpdateOptionsName                     8853253 non-null int64\n",
      "Census_ActivationChannel                             8853253 non-null int64\n",
      "Census_FirmwareManufacturerIdentifier                8634166 non-null float16\n",
      "Census_FirmwareVersionIdentifier                     8657741 non-null float32\n",
      "Census_IsSecureBootEnabled                           8853253 non-null int8\n",
      "Census_IsWIMBootEnabled                              2696833 non-null float16\n",
      "Census_IsVirtualDevice                               8834174 non-null float16\n",
      "Census_IsTouchEnabled                                8853253 non-null int8\n",
      "Wdft_IsGamer                                         8516303 non-null float16\n",
      "Wdft_RegionIdentifier                                8516303 non-null float16\n",
      "dtypes: float16(20), float32(5), float64(4), int16(3), int64(6), int8(3)\n",
      "memory usage: 1.2 GB\n"
     ]
    }
   ],
   "source": [
    "total_x.info(verbose=True,null_counts=True)"
   ]
  },
  {
   "cell_type": "code",
   "execution_count": 92,
   "metadata": {},
   "outputs": [
    {
     "data": {
      "text/html": [
       "<div>\n",
       "<style scoped>\n",
       "    .dataframe tbody tr th:only-of-type {\n",
       "        vertical-align: middle;\n",
       "    }\n",
       "\n",
       "    .dataframe tbody tr th {\n",
       "        vertical-align: top;\n",
       "    }\n",
       "\n",
       "    .dataframe thead th {\n",
       "        text-align: right;\n",
       "    }\n",
       "</style>\n",
       "<table border=\"1\" class=\"dataframe\">\n",
       "  <thead>\n",
       "    <tr style=\"text-align: right;\">\n",
       "      <th></th>\n",
       "      <th>EngineVersion</th>\n",
       "      <th>AppVersion</th>\n",
       "      <th>RtpStateBitfield</th>\n",
       "      <th>DefaultBrowsersIdentifier</th>\n",
       "      <th>AVProductStatesIdentifier</th>\n",
       "      <th>AVProductsInstalled</th>\n",
       "      <th>AVProductsEnabled</th>\n",
       "      <th>CountryIdentifier</th>\n",
       "      <th>CityIdentifier</th>\n",
       "      <th>OrganizationIdentifier</th>\n",
       "      <th>...</th>\n",
       "      <th>Census_OSWUAutoUpdateOptionsName</th>\n",
       "      <th>Census_ActivationChannel</th>\n",
       "      <th>Census_FirmwareManufacturerIdentifier</th>\n",
       "      <th>Census_FirmwareVersionIdentifier</th>\n",
       "      <th>Census_IsSecureBootEnabled</th>\n",
       "      <th>Census_IsWIMBootEnabled</th>\n",
       "      <th>Census_IsVirtualDevice</th>\n",
       "      <th>Census_IsTouchEnabled</th>\n",
       "      <th>Wdft_IsGamer</th>\n",
       "      <th>Wdft_RegionIdentifier</th>\n",
       "    </tr>\n",
       "  </thead>\n",
       "  <tbody>\n",
       "    <tr>\n",
       "      <th>0</th>\n",
       "      <td>569779</td>\n",
       "      <td>1262763</td>\n",
       "      <td>7.0</td>\n",
       "      <td>NaN</td>\n",
       "      <td>53447.0</td>\n",
       "      <td>1.0</td>\n",
       "      <td>1.0</td>\n",
       "      <td>29</td>\n",
       "      <td>128035.0</td>\n",
       "      <td>18.0</td>\n",
       "      <td>...</td>\n",
       "      <td>2582502</td>\n",
       "      <td>4579823</td>\n",
       "      <td>628.0</td>\n",
       "      <td>36144.0</td>\n",
       "      <td>0</td>\n",
       "      <td>NaN</td>\n",
       "      <td>0.0</td>\n",
       "      <td>0</td>\n",
       "      <td>0.0</td>\n",
       "      <td>10.0</td>\n",
       "    </tr>\n",
       "    <tr>\n",
       "      <th>1</th>\n",
       "      <td>156382</td>\n",
       "      <td>259749</td>\n",
       "      <td>7.0</td>\n",
       "      <td>NaN</td>\n",
       "      <td>53447.0</td>\n",
       "      <td>1.0</td>\n",
       "      <td>1.0</td>\n",
       "      <td>93</td>\n",
       "      <td>1482.0</td>\n",
       "      <td>18.0</td>\n",
       "      <td>...</td>\n",
       "      <td>2582502</td>\n",
       "      <td>4579823</td>\n",
       "      <td>628.0</td>\n",
       "      <td>57858.0</td>\n",
       "      <td>0</td>\n",
       "      <td>NaN</td>\n",
       "      <td>0.0</td>\n",
       "      <td>0</td>\n",
       "      <td>0.0</td>\n",
       "      <td>8.0</td>\n",
       "    </tr>\n",
       "    <tr>\n",
       "      <th>2</th>\n",
       "      <td>569779</td>\n",
       "      <td>1262763</td>\n",
       "      <td>7.0</td>\n",
       "      <td>NaN</td>\n",
       "      <td>53447.0</td>\n",
       "      <td>1.0</td>\n",
       "      <td>1.0</td>\n",
       "      <td>86</td>\n",
       "      <td>153579.0</td>\n",
       "      <td>18.0</td>\n",
       "      <td>...</td>\n",
       "      <td>4556167</td>\n",
       "      <td>296760</td>\n",
       "      <td>142.0</td>\n",
       "      <td>52682.0</td>\n",
       "      <td>0</td>\n",
       "      <td>NaN</td>\n",
       "      <td>0.0</td>\n",
       "      <td>0</td>\n",
       "      <td>0.0</td>\n",
       "      <td>3.0</td>\n",
       "    </tr>\n",
       "    <tr>\n",
       "      <th>3</th>\n",
       "      <td>569779</td>\n",
       "      <td>1262763</td>\n",
       "      <td>7.0</td>\n",
       "      <td>NaN</td>\n",
       "      <td>53447.0</td>\n",
       "      <td>1.0</td>\n",
       "      <td>1.0</td>\n",
       "      <td>88</td>\n",
       "      <td>20710.0</td>\n",
       "      <td>NaN</td>\n",
       "      <td>...</td>\n",
       "      <td>4556167</td>\n",
       "      <td>296760</td>\n",
       "      <td>355.0</td>\n",
       "      <td>20050.0</td>\n",
       "      <td>0</td>\n",
       "      <td>NaN</td>\n",
       "      <td>0.0</td>\n",
       "      <td>0</td>\n",
       "      <td>0.0</td>\n",
       "      <td>3.0</td>\n",
       "    </tr>\n",
       "    <tr>\n",
       "      <th>4</th>\n",
       "      <td>569779</td>\n",
       "      <td>1262763</td>\n",
       "      <td>7.0</td>\n",
       "      <td>NaN</td>\n",
       "      <td>53447.0</td>\n",
       "      <td>1.0</td>\n",
       "      <td>1.0</td>\n",
       "      <td>18</td>\n",
       "      <td>37376.0</td>\n",
       "      <td>NaN</td>\n",
       "      <td>...</td>\n",
       "      <td>4556167</td>\n",
       "      <td>4579823</td>\n",
       "      <td>355.0</td>\n",
       "      <td>19844.0</td>\n",
       "      <td>0</td>\n",
       "      <td>0.0</td>\n",
       "      <td>0.0</td>\n",
       "      <td>0</td>\n",
       "      <td>0.0</td>\n",
       "      <td>1.0</td>\n",
       "    </tr>\n",
       "  </tbody>\n",
       "</table>\n",
       "<p>5 rows × 41 columns</p>\n",
       "</div>"
      ],
      "text/plain": [
       "   EngineVersion  AppVersion  RtpStateBitfield  DefaultBrowsersIdentifier  \\\n",
       "0         569779     1262763               7.0                        NaN   \n",
       "1         156382      259749               7.0                        NaN   \n",
       "2         569779     1262763               7.0                        NaN   \n",
       "3         569779     1262763               7.0                        NaN   \n",
       "4         569779     1262763               7.0                        NaN   \n",
       "\n",
       "   AVProductStatesIdentifier  AVProductsInstalled  AVProductsEnabled  \\\n",
       "0                    53447.0                  1.0                1.0   \n",
       "1                    53447.0                  1.0                1.0   \n",
       "2                    53447.0                  1.0                1.0   \n",
       "3                    53447.0                  1.0                1.0   \n",
       "4                    53447.0                  1.0                1.0   \n",
       "\n",
       "   CountryIdentifier  CityIdentifier  OrganizationIdentifier  \\\n",
       "0                 29        128035.0                    18.0   \n",
       "1                 93          1482.0                    18.0   \n",
       "2                 86        153579.0                    18.0   \n",
       "3                 88         20710.0                     NaN   \n",
       "4                 18         37376.0                     NaN   \n",
       "\n",
       "           ...            Census_OSWUAutoUpdateOptionsName  \\\n",
       "0          ...                                     2582502   \n",
       "1          ...                                     2582502   \n",
       "2          ...                                     4556167   \n",
       "3          ...                                     4556167   \n",
       "4          ...                                     4556167   \n",
       "\n",
       "   Census_ActivationChannel  Census_FirmwareManufacturerIdentifier  \\\n",
       "0                   4579823                                  628.0   \n",
       "1                   4579823                                  628.0   \n",
       "2                    296760                                  142.0   \n",
       "3                    296760                                  355.0   \n",
       "4                   4579823                                  355.0   \n",
       "\n",
       "   Census_FirmwareVersionIdentifier  Census_IsSecureBootEnabled  \\\n",
       "0                           36144.0                           0   \n",
       "1                           57858.0                           0   \n",
       "2                           52682.0                           0   \n",
       "3                           20050.0                           0   \n",
       "4                           19844.0                           0   \n",
       "\n",
       "   Census_IsWIMBootEnabled  Census_IsVirtualDevice  Census_IsTouchEnabled  \\\n",
       "0                      NaN                     0.0                      0   \n",
       "1                      NaN                     0.0                      0   \n",
       "2                      NaN                     0.0                      0   \n",
       "3                      NaN                     0.0                      0   \n",
       "4                      0.0                     0.0                      0   \n",
       "\n",
       "   Wdft_IsGamer  Wdft_RegionIdentifier  \n",
       "0           0.0                   10.0  \n",
       "1           0.0                    8.0  \n",
       "2           0.0                    3.0  \n",
       "3           0.0                    3.0  \n",
       "4           0.0                    1.0  \n",
       "\n",
       "[5 rows x 41 columns]"
      ]
     },
     "execution_count": 92,
     "metadata": {},
     "output_type": "execute_result"
    }
   ],
   "source": [
    "total_x.head()"
   ]
  },
  {
   "cell_type": "code",
   "execution_count": 95,
   "metadata": {},
   "outputs": [
    {
     "data": {
      "text/plain": [
       "(1000000, 1)"
      ]
     },
     "execution_count": 95,
     "metadata": {},
     "output_type": "execute_result"
    }
   ],
   "source": [
    "label.shape"
   ]
  },
  {
   "cell_type": "code",
   "execution_count": 97,
   "metadata": {},
   "outputs": [
    {
     "data": {
      "text/html": [
       "<div>\n",
       "<style scoped>\n",
       "    .dataframe tbody tr th:only-of-type {\n",
       "        vertical-align: middle;\n",
       "    }\n",
       "\n",
       "    .dataframe tbody tr th {\n",
       "        vertical-align: top;\n",
       "    }\n",
       "\n",
       "    .dataframe thead th {\n",
       "        text-align: right;\n",
       "    }\n",
       "</style>\n",
       "<table border=\"1\" class=\"dataframe\">\n",
       "  <thead>\n",
       "    <tr style=\"text-align: right;\">\n",
       "      <th></th>\n",
       "      <th>EngineVersion</th>\n",
       "      <th>AppVersion</th>\n",
       "      <th>RtpStateBitfield</th>\n",
       "      <th>DefaultBrowsersIdentifier</th>\n",
       "      <th>AVProductStatesIdentifier</th>\n",
       "      <th>AVProductsInstalled</th>\n",
       "      <th>AVProductsEnabled</th>\n",
       "      <th>CountryIdentifier</th>\n",
       "      <th>CityIdentifier</th>\n",
       "      <th>OrganizationIdentifier</th>\n",
       "      <th>...</th>\n",
       "      <th>Census_OSWUAutoUpdateOptionsName</th>\n",
       "      <th>Census_ActivationChannel</th>\n",
       "      <th>Census_FirmwareManufacturerIdentifier</th>\n",
       "      <th>Census_FirmwareVersionIdentifier</th>\n",
       "      <th>Census_IsSecureBootEnabled</th>\n",
       "      <th>Census_IsWIMBootEnabled</th>\n",
       "      <th>Census_IsVirtualDevice</th>\n",
       "      <th>Census_IsTouchEnabled</th>\n",
       "      <th>Wdft_IsGamer</th>\n",
       "      <th>Wdft_RegionIdentifier</th>\n",
       "    </tr>\n",
       "  </thead>\n",
       "  <tbody>\n",
       "    <tr>\n",
       "      <th>count</th>\n",
       "      <td>8.853253e+06</td>\n",
       "      <td>8.853253e+06</td>\n",
       "      <td>8817365.0</td>\n",
       "      <td>355422.0</td>\n",
       "      <td>8.825393e+06</td>\n",
       "      <td>8825393.0</td>\n",
       "      <td>8825393.0</td>\n",
       "      <td>8.853253e+06</td>\n",
       "      <td>8.624778e+06</td>\n",
       "      <td>6062188.0</td>\n",
       "      <td>...</td>\n",
       "      <td>8.853253e+06</td>\n",
       "      <td>8.853253e+06</td>\n",
       "      <td>8634166.0</td>\n",
       "      <td>8.657741e+06</td>\n",
       "      <td>8.853253e+06</td>\n",
       "      <td>2.696833e+06</td>\n",
       "      <td>8834174.0</td>\n",
       "      <td>8.853253e+06</td>\n",
       "      <td>8516303.0</td>\n",
       "      <td>8516303.0</td>\n",
       "    </tr>\n",
       "    <tr>\n",
       "      <th>mean</th>\n",
       "      <td>1.963773e+06</td>\n",
       "      <td>1.591286e+06</td>\n",
       "      <td>NaN</td>\n",
       "      <td>NaN</td>\n",
       "      <td>5.130810e+04</td>\n",
       "      <td>NaN</td>\n",
       "      <td>NaN</td>\n",
       "      <td>1.092884e+02</td>\n",
       "      <td>8.044938e+04</td>\n",
       "      <td>NaN</td>\n",
       "      <td>...</td>\n",
       "      <td>3.334236e+06</td>\n",
       "      <td>3.600687e+06</td>\n",
       "      <td>NaN</td>\n",
       "      <td>3.236128e+04</td>\n",
       "      <td>4.553763e-01</td>\n",
       "      <td>3.576279e-07</td>\n",
       "      <td>NaN</td>\n",
       "      <td>1.190884e-01</td>\n",
       "      <td>NaN</td>\n",
       "      <td>NaN</td>\n",
       "    </tr>\n",
       "    <tr>\n",
       "      <th>std</th>\n",
       "      <td>1.032554e+06</td>\n",
       "      <td>1.059013e+06</td>\n",
       "      <td>0.0</td>\n",
       "      <td>NaN</td>\n",
       "      <td>1.249813e+04</td>\n",
       "      <td>0.0</td>\n",
       "      <td>0.0</td>\n",
       "      <td>6.317093e+01</td>\n",
       "      <td>4.881226e+04</td>\n",
       "      <td>0.0</td>\n",
       "      <td>...</td>\n",
       "      <td>1.355991e+06</td>\n",
       "      <td>1.279401e+06</td>\n",
       "      <td>NaN</td>\n",
       "      <td>2.115952e+04</td>\n",
       "      <td>4.980048e-01</td>\n",
       "      <td>5.979538e-04</td>\n",
       "      <td>0.0</td>\n",
       "      <td>3.238926e-01</td>\n",
       "      <td>0.0</td>\n",
       "      <td>0.0</td>\n",
       "    </tr>\n",
       "    <tr>\n",
       "      <th>min</th>\n",
       "      <td>1.000000e+00</td>\n",
       "      <td>1.000000e+00</td>\n",
       "      <td>0.0</td>\n",
       "      <td>1.0</td>\n",
       "      <td>2.000000e+00</td>\n",
       "      <td>1.0</td>\n",
       "      <td>0.0</td>\n",
       "      <td>1.000000e+00</td>\n",
       "      <td>1.000000e+00</td>\n",
       "      <td>1.0</td>\n",
       "      <td>...</td>\n",
       "      <td>1.261300e+04</td>\n",
       "      <td>2.749000e+03</td>\n",
       "      <td>1.0</td>\n",
       "      <td>5.000000e+00</td>\n",
       "      <td>0.000000e+00</td>\n",
       "      <td>0.000000e+00</td>\n",
       "      <td>0.0</td>\n",
       "      <td>0.000000e+00</td>\n",
       "      <td>0.0</td>\n",
       "      <td>1.0</td>\n",
       "    </tr>\n",
       "    <tr>\n",
       "      <th>25%</th>\n",
       "      <td>1.491273e+06</td>\n",
       "      <td>2.597490e+05</td>\n",
       "      <td>7.0</td>\n",
       "      <td>614.0</td>\n",
       "      <td>5.344700e+04</td>\n",
       "      <td>1.0</td>\n",
       "      <td>1.0</td>\n",
       "      <td>5.100000e+01</td>\n",
       "      <td>3.682500e+04</td>\n",
       "      <td>18.0</td>\n",
       "      <td>...</td>\n",
       "      <td>2.582502e+06</td>\n",
       "      <td>3.199269e+06</td>\n",
       "      <td>142.0</td>\n",
       "      <td>1.289700e+04</td>\n",
       "      <td>0.000000e+00</td>\n",
       "      <td>0.000000e+00</td>\n",
       "      <td>0.0</td>\n",
       "      <td>0.000000e+00</td>\n",
       "      <td>0.0</td>\n",
       "      <td>3.0</td>\n",
       "    </tr>\n",
       "    <tr>\n",
       "      <th>50%</th>\n",
       "      <td>2.106236e+06</td>\n",
       "      <td>2.129928e+06</td>\n",
       "      <td>7.0</td>\n",
       "      <td>1632.0</td>\n",
       "      <td>5.344700e+04</td>\n",
       "      <td>1.0</td>\n",
       "      <td>1.0</td>\n",
       "      <td>9.700000e+01</td>\n",
       "      <td>8.237300e+04</td>\n",
       "      <td>27.0</td>\n",
       "      <td>...</td>\n",
       "      <td>4.556167e+06</td>\n",
       "      <td>4.579823e+06</td>\n",
       "      <td>486.0</td>\n",
       "      <td>3.306000e+04</td>\n",
       "      <td>0.000000e+00</td>\n",
       "      <td>0.000000e+00</td>\n",
       "      <td>0.0</td>\n",
       "      <td>0.000000e+00</td>\n",
       "      <td>0.0</td>\n",
       "      <td>10.0</td>\n",
       "    </tr>\n",
       "    <tr>\n",
       "      <th>75%</th>\n",
       "      <td>3.114852e+06</td>\n",
       "      <td>2.740243e+06</td>\n",
       "      <td>7.0</td>\n",
       "      <td>2376.0</td>\n",
       "      <td>5.344700e+04</td>\n",
       "      <td>2.0</td>\n",
       "      <td>1.0</td>\n",
       "      <td>1.640000e+02</td>\n",
       "      <td>1.233670e+05</td>\n",
       "      <td>27.0</td>\n",
       "      <td>...</td>\n",
       "      <td>4.556167e+06</td>\n",
       "      <td>4.579823e+06</td>\n",
       "      <td>556.0</td>\n",
       "      <td>5.215200e+04</td>\n",
       "      <td>1.000000e+00</td>\n",
       "      <td>0.000000e+00</td>\n",
       "      <td>0.0</td>\n",
       "      <td>0.000000e+00</td>\n",
       "      <td>1.0</td>\n",
       "      <td>11.0</td>\n",
       "    </tr>\n",
       "    <tr>\n",
       "      <th>max</th>\n",
       "      <td>3.114852e+06</td>\n",
       "      <td>2.740243e+06</td>\n",
       "      <td>40.0</td>\n",
       "      <td>3214.0</td>\n",
       "      <td>7.050200e+04</td>\n",
       "      <td>6.0</td>\n",
       "      <td>5.0</td>\n",
       "      <td>2.220000e+02</td>\n",
       "      <td>1.679620e+05</td>\n",
       "      <td>52.0</td>\n",
       "      <td>...</td>\n",
       "      <td>4.556167e+06</td>\n",
       "      <td>4.579823e+06</td>\n",
       "      <td>1088.0</td>\n",
       "      <td>7.211100e+04</td>\n",
       "      <td>1.000000e+00</td>\n",
       "      <td>1.000000e+00</td>\n",
       "      <td>1.0</td>\n",
       "      <td>1.000000e+00</td>\n",
       "      <td>1.0</td>\n",
       "      <td>15.0</td>\n",
       "    </tr>\n",
       "  </tbody>\n",
       "</table>\n",
       "<p>8 rows × 41 columns</p>\n",
       "</div>"
      ],
      "text/plain": [
       "       EngineVersion    AppVersion  RtpStateBitfield  \\\n",
       "count   8.853253e+06  8.853253e+06         8817365.0   \n",
       "mean    1.963773e+06  1.591286e+06               NaN   \n",
       "std     1.032554e+06  1.059013e+06               0.0   \n",
       "min     1.000000e+00  1.000000e+00               0.0   \n",
       "25%     1.491273e+06  2.597490e+05               7.0   \n",
       "50%     2.106236e+06  2.129928e+06               7.0   \n",
       "75%     3.114852e+06  2.740243e+06               7.0   \n",
       "max     3.114852e+06  2.740243e+06              40.0   \n",
       "\n",
       "       DefaultBrowsersIdentifier  AVProductStatesIdentifier  \\\n",
       "count                   355422.0               8.825393e+06   \n",
       "mean                         NaN               5.130810e+04   \n",
       "std                          NaN               1.249813e+04   \n",
       "min                          1.0               2.000000e+00   \n",
       "25%                        614.0               5.344700e+04   \n",
       "50%                       1632.0               5.344700e+04   \n",
       "75%                       2376.0               5.344700e+04   \n",
       "max                       3214.0               7.050200e+04   \n",
       "\n",
       "       AVProductsInstalled  AVProductsEnabled  CountryIdentifier  \\\n",
       "count            8825393.0          8825393.0       8.853253e+06   \n",
       "mean                   NaN                NaN       1.092884e+02   \n",
       "std                    0.0                0.0       6.317093e+01   \n",
       "min                    1.0                0.0       1.000000e+00   \n",
       "25%                    1.0                1.0       5.100000e+01   \n",
       "50%                    1.0                1.0       9.700000e+01   \n",
       "75%                    2.0                1.0       1.640000e+02   \n",
       "max                    6.0                5.0       2.220000e+02   \n",
       "\n",
       "       CityIdentifier  OrganizationIdentifier          ...            \\\n",
       "count    8.624778e+06               6062188.0          ...             \n",
       "mean     8.044938e+04                     NaN          ...             \n",
       "std      4.881226e+04                     0.0          ...             \n",
       "min      1.000000e+00                     1.0          ...             \n",
       "25%      3.682500e+04                    18.0          ...             \n",
       "50%      8.237300e+04                    27.0          ...             \n",
       "75%      1.233670e+05                    27.0          ...             \n",
       "max      1.679620e+05                    52.0          ...             \n",
       "\n",
       "       Census_OSWUAutoUpdateOptionsName  Census_ActivationChannel  \\\n",
       "count                      8.853253e+06              8.853253e+06   \n",
       "mean                       3.334236e+06              3.600687e+06   \n",
       "std                        1.355991e+06              1.279401e+06   \n",
       "min                        1.261300e+04              2.749000e+03   \n",
       "25%                        2.582502e+06              3.199269e+06   \n",
       "50%                        4.556167e+06              4.579823e+06   \n",
       "75%                        4.556167e+06              4.579823e+06   \n",
       "max                        4.556167e+06              4.579823e+06   \n",
       "\n",
       "       Census_FirmwareManufacturerIdentifier  \\\n",
       "count                              8634166.0   \n",
       "mean                                     NaN   \n",
       "std                                      NaN   \n",
       "min                                      1.0   \n",
       "25%                                    142.0   \n",
       "50%                                    486.0   \n",
       "75%                                    556.0   \n",
       "max                                   1088.0   \n",
       "\n",
       "       Census_FirmwareVersionIdentifier  Census_IsSecureBootEnabled  \\\n",
       "count                      8.657741e+06                8.853253e+06   \n",
       "mean                       3.236128e+04                4.553763e-01   \n",
       "std                        2.115952e+04                4.980048e-01   \n",
       "min                        5.000000e+00                0.000000e+00   \n",
       "25%                        1.289700e+04                0.000000e+00   \n",
       "50%                        3.306000e+04                0.000000e+00   \n",
       "75%                        5.215200e+04                1.000000e+00   \n",
       "max                        7.211100e+04                1.000000e+00   \n",
       "\n",
       "       Census_IsWIMBootEnabled  Census_IsVirtualDevice  Census_IsTouchEnabled  \\\n",
       "count             2.696833e+06               8834174.0           8.853253e+06   \n",
       "mean              3.576279e-07                     NaN           1.190884e-01   \n",
       "std               5.979538e-04                     0.0           3.238926e-01   \n",
       "min               0.000000e+00                     0.0           0.000000e+00   \n",
       "25%               0.000000e+00                     0.0           0.000000e+00   \n",
       "50%               0.000000e+00                     0.0           0.000000e+00   \n",
       "75%               0.000000e+00                     0.0           0.000000e+00   \n",
       "max               1.000000e+00                     1.0           1.000000e+00   \n",
       "\n",
       "       Wdft_IsGamer  Wdft_RegionIdentifier  \n",
       "count     8516303.0              8516303.0  \n",
       "mean            NaN                    NaN  \n",
       "std             0.0                    0.0  \n",
       "min             0.0                    1.0  \n",
       "25%             0.0                    3.0  \n",
       "50%             0.0                   10.0  \n",
       "75%             1.0                   11.0  \n",
       "max             1.0                   15.0  \n",
       "\n",
       "[8 rows x 41 columns]"
      ]
     },
     "execution_count": 97,
     "metadata": {},
     "output_type": "execute_result"
    }
   ],
   "source": [
    "total_x.describe()"
   ]
  },
  {
   "cell_type": "markdown",
   "metadata": {},
   "source": [
    "Divide the data into training set and test set"
   ]
  },
  {
   "cell_type": "code",
   "execution_count": 116,
   "metadata": {},
   "outputs": [],
   "source": [
    "train=total_x.iloc[:label.shape[0]]\n",
    "test=total_x.iloc[label.shape[0]:]"
   ]
  },
  {
   "cell_type": "markdown",
   "metadata": {},
   "source": [
    "Split the training set into training set and validation set for model tuning"
   ]
  },
  {
   "cell_type": "code",
   "execution_count": 118,
   "metadata": {},
   "outputs": [],
   "source": [
    "train_x, valid_x, train_y, valid_y = train_test_split(train, label, test_size=0.333, random_state=0)\n",
    "folds = StratifiedKFold(n_splits = 5, shuffle = True, random_state =1)"
   ]
  },
  {
   "cell_type": "markdown",
   "metadata": {},
   "source": [
    "Set the pre-parameters of the XGBoost model"
   ]
  },
  {
   "cell_type": "code",
   "execution_count": 135,
   "metadata": {},
   "outputs": [],
   "source": [
    "parameters = {\n",
    "    'max_depth': [5, 10],\n",
    "    'learning_rate': [0.01, 0.05],\n",
    "    'n_estimators': [200,500],\n",
    "}"
   ]
  },
  {
   "cell_type": "markdown",
   "metadata": {},
   "source": [
    "Use GridsearchCV to cross-validate the model and find the best parameters."
   ]
  },
  {
   "cell_type": "markdown",
   "metadata": {},
   "source": [
    "In the method of evaluating the model, we chose AUC. Because AUC is more suitable for the assessment of classification problems, in general, AUC is greater than 0.5."
   ]
  },
  {
   "cell_type": "code",
   "execution_count": 137,
   "metadata": {},
   "outputs": [
    {
     "name": "stdout",
     "output_type": "stream",
     "text": [
      "Fitting 3 folds for each of 8 candidates, totalling 24 fits\n",
      "[Parallel(n_jobs=1)]: Using backend SequentialBackend with 1 concurrent workers.\n",
      "[CV] learning_rate=0.01, max_depth=5, n_estimators=200 ...............\n",
      "[CV]  learning_rate=0.01, max_depth=5, n_estimators=200, score=0.6862275731523466, total=  42.6s\n",
      "[Parallel(n_jobs=1)]: Done   1 out of   1 | elapsed:   43.9s remaining:    0.0s\n",
      "[CV] learning_rate=0.01, max_depth=5, n_estimators=200 ...............\n",
      "[CV]  learning_rate=0.01, max_depth=5, n_estimators=200, score=0.6850875076067068, total=  45.0s\n",
      "[Parallel(n_jobs=1)]: Done   2 out of   2 | elapsed:  1.5min remaining:    0.0s\n",
      "[CV] learning_rate=0.01, max_depth=5, n_estimators=200 ...............\n",
      "[CV]  learning_rate=0.01, max_depth=5, n_estimators=200, score=0.6853661202218426, total=  43.9s\n",
      "[Parallel(n_jobs=1)]: Done   3 out of   3 | elapsed:  2.3min remaining:    0.0s\n",
      "[CV] learning_rate=0.01, max_depth=5, n_estimators=500 ...............\n",
      "[CV]  learning_rate=0.01, max_depth=5, n_estimators=500, score=0.6948201685005614, total= 1.8min\n",
      "[Parallel(n_jobs=1)]: Done   4 out of   4 | elapsed:  4.2min remaining:    0.0s\n",
      "[CV] learning_rate=0.01, max_depth=5, n_estimators=500 ...............\n",
      "[CV]  learning_rate=0.01, max_depth=5, n_estimators=500, score=0.6940496683487642, total= 1.9min\n",
      "[Parallel(n_jobs=1)]: Done   5 out of   5 | elapsed:  6.1min remaining:    0.0s\n",
      "[CV] learning_rate=0.01, max_depth=5, n_estimators=500 ...............\n",
      "[CV]  learning_rate=0.01, max_depth=5, n_estimators=500, score=0.6947648974468469, total= 1.8min\n",
      "[Parallel(n_jobs=1)]: Done   6 out of   6 | elapsed:  7.9min remaining:    0.0s\n",
      "[CV] learning_rate=0.01, max_depth=10, n_estimators=200 ..............\n",
      "[CV]  learning_rate=0.01, max_depth=10, n_estimators=200, score=0.7030931873301174, total= 1.6min\n",
      "[Parallel(n_jobs=1)]: Done   7 out of   7 | elapsed:  9.6min remaining:    0.0s\n",
      "[CV] learning_rate=0.01, max_depth=10, n_estimators=200 ..............\n",
      "[CV]  learning_rate=0.01, max_depth=10, n_estimators=200, score=0.703343752175417, total= 1.6min\n",
      "[Parallel(n_jobs=1)]: Done   8 out of   8 | elapsed: 11.2min remaining:    0.0s\n",
      "[CV] learning_rate=0.01, max_depth=10, n_estimators=200 ..............\n",
      "[CV]  learning_rate=0.01, max_depth=10, n_estimators=200, score=0.7035737556168542, total= 1.6min\n",
      "[Parallel(n_jobs=1)]: Done   9 out of   9 | elapsed: 12.8min remaining:    0.0s\n",
      "[CV] learning_rate=0.01, max_depth=10, n_estimators=500 ..............\n",
      "[CV]  learning_rate=0.01, max_depth=10, n_estimators=500, score=0.7105102567082959, total= 4.1min\n",
      "[Parallel(n_jobs=1)]: Done  10 out of  10 | elapsed: 17.0min remaining:    0.0s\n",
      "[CV] learning_rate=0.01, max_depth=10, n_estimators=500 ..............\n",
      "[CV]  learning_rate=0.01, max_depth=10, n_estimators=500, score=0.7104545971701339, total= 3.9min\n",
      "[Parallel(n_jobs=1)]: Done  11 out of  11 | elapsed: 21.0min remaining:    0.0s\n",
      "[CV] learning_rate=0.01, max_depth=10, n_estimators=500 ..............\n",
      "[CV]  learning_rate=0.01, max_depth=10, n_estimators=500, score=0.7111302700737734, total= 4.1min\n",
      "[Parallel(n_jobs=1)]: Done  12 out of  12 | elapsed: 25.2min remaining:    0.0s\n",
      "[CV] learning_rate=0.05, max_depth=5, n_estimators=200 ...............\n",
      "[CV]  learning_rate=0.05, max_depth=5, n_estimators=200, score=0.7024767427018249, total=  43.0s\n",
      "[Parallel(n_jobs=1)]: Done  13 out of  13 | elapsed: 26.0min remaining:    0.0s\n",
      "[CV] learning_rate=0.05, max_depth=5, n_estimators=200 ...............\n",
      "[CV]  learning_rate=0.05, max_depth=5, n_estimators=200, score=0.7027466779843128, total=  43.9s\n",
      "[Parallel(n_jobs=1)]: Done  14 out of  14 | elapsed: 26.7min remaining:    0.0s\n",
      "[CV] learning_rate=0.05, max_depth=5, n_estimators=200 ...............\n",
      "[CV]  learning_rate=0.05, max_depth=5, n_estimators=200, score=0.702916782458282, total=  44.1s\n",
      "[Parallel(n_jobs=1)]: Done  15 out of  15 | elapsed: 27.5min remaining:    0.0s\n",
      "[CV] learning_rate=0.05, max_depth=5, n_estimators=500 ...............\n",
      "[CV]  learning_rate=0.05, max_depth=5, n_estimators=500, score=0.7094259643148944, total= 2.1min\n",
      "[Parallel(n_jobs=1)]: Done  16 out of  16 | elapsed: 29.6min remaining:    0.0s\n",
      "[CV] learning_rate=0.05, max_depth=5, n_estimators=500 ...............\n",
      "[CV]  learning_rate=0.05, max_depth=5, n_estimators=500, score=0.7095383150429757, total= 1.9min\n",
      "[Parallel(n_jobs=1)]: Done  17 out of  17 | elapsed: 31.6min remaining:    0.0s\n",
      "[CV] learning_rate=0.05, max_depth=5, n_estimators=500 ...............\n",
      "[CV]  learning_rate=0.05, max_depth=5, n_estimators=500, score=0.7095161560744774, total= 2.0min\n",
      "[Parallel(n_jobs=1)]: Done  18 out of  18 | elapsed: 33.6min remaining:    0.0s\n",
      "[CV] learning_rate=0.05, max_depth=10, n_estimators=200 ..............\n",
      "[CV]  learning_rate=0.05, max_depth=10, n_estimators=200, score=0.7136899802942709, total= 1.5min\n",
      "[Parallel(n_jobs=1)]: Done  19 out of  19 | elapsed: 35.2min remaining:    0.0s\n",
      "[CV] learning_rate=0.05, max_depth=10, n_estimators=200 ..............\n",
      "[CV]  learning_rate=0.05, max_depth=10, n_estimators=200, score=0.7142888541433932, total= 1.5min\n",
      "[Parallel(n_jobs=1)]: Done  20 out of  20 | elapsed: 36.7min remaining:    0.0s\n",
      "[CV] learning_rate=0.05, max_depth=10, n_estimators=200 ..............\n",
      "[CV]  learning_rate=0.05, max_depth=10, n_estimators=200, score=0.7143852494595726, total= 1.5min\n",
      "[Parallel(n_jobs=1)]: Done  21 out of  21 | elapsed: 38.2min remaining:    0.0s\n",
      "[CV] learning_rate=0.05, max_depth=10, n_estimators=500 ..............\n",
      "[CV]  learning_rate=0.05, max_depth=10, n_estimators=500, score=0.715227925456705, total= 3.7min\n",
      "[Parallel(n_jobs=1)]: Done  22 out of  22 | elapsed: 41.9min remaining:    0.0s\n",
      "[CV] learning_rate=0.05, max_depth=10, n_estimators=500 ..............\n",
      "[CV]  learning_rate=0.05, max_depth=10, n_estimators=500, score=0.7161380709224167, total= 3.4min\n",
      "[Parallel(n_jobs=1)]: Done  23 out of  23 | elapsed: 45.5min remaining:    0.0s\n",
      "[CV] learning_rate=0.05, max_depth=10, n_estimators=500 ..............\n",
      "[CV]  learning_rate=0.05, max_depth=10, n_estimators=500, score=0.7160067125587773, total= 3.4min\n",
      "[Parallel(n_jobs=1)]: Done  24 out of  24 | elapsed: 49.0min remaining:    0.0s\n",
      "[Parallel(n_jobs=1)]: Done  24 out of  24 | elapsed: 49.0min finished\n"
     ]
    },
    {
     "data": {
      "text/plain": [
       "GridSearchCV(cv=3, error_score='raise-deprecating',\n",
       "       estimator=XGBClassifier(base_score=None, booster=None, colsample_bylevel=1,\n",
       "       colsample_bynode=None, colsample_bytree=0.7, gamma=0, gpu_id=None,\n",
       "       importance_type='gain', interaction_constraints=None,\n",
       "       learning_rate=0.01, max_delta_step=0, max_depth=10,\n",
       "       min_child_weight=1, mis...ght=1, seed=1440, subsample=0.85,\n",
       "       tree_method=None, validate_parameters=None, verbosity=None),\n",
       "       fit_params=None, iid='warn', n_jobs=None,\n",
       "       param_grid={'max_depth': [5, 10], 'learning_rate': [0.01, 0.05], 'n_estimators': [200, 500]},\n",
       "       pre_dispatch='2*n_jobs', refit=True, return_train_score='warn',\n",
       "       scoring='roc_auc', verbose=100000)"
      ]
     },
     "execution_count": 137,
     "metadata": {},
     "output_type": "execute_result"
    }
   ],
   "source": [
    "xlf = XGBClassifier(max_depth=10,\n",
    "                        learning_rate=0.01,\n",
    "                        n_estimators=2000,\n",
    "                        objective='binary:logistic',\n",
    "                        nthread=-1,\n",
    "                        gamma=0,\n",
    "                        min_child_weight=1,\n",
    "                        max_delta_step=0,\n",
    "                        subsample=0.85,\n",
    "                        colsample_bytree=0.7,\n",
    "                        colsample_bylevel=1,\n",
    "                        reg_alpha=0,\n",
    "                        reg_lambda=1,\n",
    "                        scale_pos_weight=1,\n",
    "                        seed=1440,\n",
    "                        missing=None)\n",
    "\n",
    "gsearch = GridSearchCV(xlf, param_grid=parameters, scoring='roc_auc', cv=3,verbose=100000)\n",
    "gsearch.fit(train_x, train_y)"
   ]
  },
  {
   "cell_type": "markdown",
   "metadata": {},
   "source": [
    "You can see that the best parameters are:\n",
    "\n",
    "learning_rate: 0.05\n",
    "\n",
    "max_depth: 10\n",
    "\n",
    "n_estimators: 500"
   ]
  },
  {
   "cell_type": "code",
   "execution_count": 138,
   "metadata": {},
   "outputs": [
    {
     "name": "stdout",
     "output_type": "stream",
     "text": [
      "Best score: 0.716\n",
      "Best parameters set:\n",
      "\tlearning_rate: 0.05\n",
      "\tmax_depth: 10\n",
      "\tn_estimators: 500\n"
     ]
    }
   ],
   "source": [
    "\n",
    "print(\"Best score: %0.3f\" % gsearch.best_score_)\n",
    "print(\"Best parameters set:\")\n",
    "best_parameters = gsearch.best_estimator_.get_params()\n",
    "for param_name in sorted(parameters.keys()):\n",
    "    print(\"\\t%s: %r\" % (param_name, best_parameters[param_name]))"
   ]
  },
  {
   "cell_type": "markdown",
   "metadata": {},
   "source": [
    "Use the above parameters to test the test set,"
   ]
  },
  {
   "cell_type": "code",
   "execution_count": 139,
   "metadata": {},
   "outputs": [],
   "source": [
    "final_model=XGBClassifier(learning_rate=0.05,max_depth=10,n_estimators=500)"
   ]
  },
  {
   "cell_type": "code",
   "execution_count": 143,
   "metadata": {},
   "outputs": [
    {
     "data": {
      "text/plain": [
       "XGBClassifier(base_score=0.5, booster='gbtree', colsample_bylevel=1,\n",
       "       colsample_bynode=1, colsample_bytree=1, gamma=0, gpu_id=-1,\n",
       "       importance_type='gain', interaction_constraints='',\n",
       "       learning_rate=0.05, max_delta_step=0, max_depth=10,\n",
       "       min_child_weight=1, missing=nan, monotone_constraints='()',\n",
       "       n_estimators=500, n_jobs=0, num_parallel_tree=1,\n",
       "       objective='binary:logistic', random_state=0, reg_alpha=0,\n",
       "       reg_lambda=1, scale_pos_weight=1, subsample=1, tree_method='exact',\n",
       "       validate_parameters=1, verbosity=None)"
      ]
     },
     "execution_count": 143,
     "metadata": {},
     "output_type": "execute_result"
    }
   ],
   "source": [
    "final_model.fit(train_x, train_y)"
   ]
  },
  {
   "cell_type": "code",
   "execution_count": 144,
   "metadata": {},
   "outputs": [],
   "source": [
    "pred_prob=final_model.predict_proba(valid_x)"
   ]
  },
  {
   "cell_type": "code",
   "execution_count": 155,
   "metadata": {},
   "outputs": [],
   "source": [
    "pred=final_model.predict(valid_x)"
   ]
  },
  {
   "cell_type": "code",
   "execution_count": 147,
   "metadata": {},
   "outputs": [
    {
     "data": {
      "text/plain": [
       "(333000, 41)"
      ]
     },
     "execution_count": 147,
     "metadata": {},
     "output_type": "execute_result"
    }
   ],
   "source": [
    "valid_x.shape"
   ]
  },
  {
   "cell_type": "code",
   "execution_count": 148,
   "metadata": {},
   "outputs": [
    {
     "data": {
      "text/plain": [
       "(333000, 1)"
      ]
     },
     "execution_count": 148,
     "metadata": {},
     "output_type": "execute_result"
    }
   ],
   "source": [
    "valid_y.shape"
   ]
  },
  {
   "cell_type": "code",
   "execution_count": 150,
   "metadata": {},
   "outputs": [
    {
     "data": {
      "text/plain": [
       "(333000, 2)"
      ]
     },
     "execution_count": 150,
     "metadata": {},
     "output_type": "execute_result"
    }
   ],
   "source": [
    "pred_prob.shape"
   ]
  },
  {
   "cell_type": "markdown",
   "metadata": {},
   "source": [
    "It can be seen that the AUC is 0.72 and the performance is better,and the F1 score is 0.6553."
   ]
  },
  {
   "cell_type": "markdown",
   "metadata": {},
   "source": [
    "AUC is still used as the classification evaluation standard here, first of all because AUC is a commonly used classification evaluation standard in many kaggle competitions, and compared to F1, it is more fair in judging unbalanced data."
   ]
  },
  {
   "cell_type": "code",
   "execution_count": 151,
   "metadata": {},
   "outputs": [
    {
     "data": {
      "text/plain": [
       "'AUC score: 0.7200'"
      ]
     },
     "execution_count": 151,
     "metadata": {},
     "output_type": "execute_result"
    }
   ],
   "source": [
    "'AUC score: %.4f'%roc_auc_score(valid_y,pred_prob[:,1])"
   ]
  },
  {
   "cell_type": "code",
   "execution_count": 156,
   "metadata": {},
   "outputs": [
    {
     "data": {
      "text/plain": [
       "'F1 score: 0.6553'"
      ]
     },
     "execution_count": 156,
     "metadata": {},
     "output_type": "execute_result"
    }
   ],
   "source": [
    "'F1 score: %.4f'%f1_score(valid_y,pred)"
   ]
  },
  {
   "cell_type": "code",
   "execution_count": 159,
   "metadata": {},
   "outputs": [],
   "source": [
    "fpr,tpr,threshold = roc_curve(valid_y,pred_prob[:,1]) "
   ]
  },
  {
   "cell_type": "markdown",
   "metadata": {},
   "source": [
    "It can be seen from the ROC curve that the classification effect is better."
   ]
  },
  {
   "cell_type": "code",
   "execution_count": 162,
   "metadata": {},
   "outputs": [
    {
     "name": "stderr",
     "output_type": "stream",
     "text": [
      "WARNING:matplotlib.legend:No handles with labels found to put in legend.\n"
     ]
    },
    {
     "data": {
      "text/plain": [
       "<Figure size 432x288 with 0 Axes>"
      ]
     },
     "metadata": {},
     "output_type": "display_data"
    },
    {
     "data": {
      "image/png": "[encoded data removed]",
      "text/plain": [
       "<Figure size 720x720 with 1 Axes>"
      ]
     },
     "metadata": {
      "needs_background": "light"
     },
     "output_type": "display_data"
    }
   ],
   "source": [
    "plt.figure()\n",
    "lw = 2\n",
    "plt.figure(figsize=(10,10))\n",
    "plt.plot(fpr, tpr, color='darkorange',lw=lw ) \n",
    "plt.plot([0, 1], [0, 1], color='navy', lw=lw, linestyle='--')\n",
    "plt.xlim([0.0, 1.0])\n",
    "plt.ylim([0.0, 1.05])\n",
    "plt.xlabel('False Positive Rate')\n",
    "plt.ylabel('True Positive Rate')\n",
    "plt.title('Receiver operating characteristic example')\n",
    "plt.legend(loc=\"lower right\");\n"
   ]
  },
  {
   "cell_type": "markdown",
   "metadata": {},
   "source": [
    "Due to the limitation of computer performance, the parameter settings for the model are relatively rough this time, and the optimal parameters cannot be accurately found. At the same time, the training data used is also less, which reduces the generalization ability of the model, but 0.72 The AUC value is still satisfactory."
   ]
  },
  {
   "cell_type": "code",
   "execution_count": null,
   "metadata": {},
   "outputs": [],
   "source": []
  }
 ],
 "metadata": {
  "kernelspec": {
   "display_name": "Python 3",
   "language": "python",
   "name": "python3"
  },
  "language_info": {
   "codemirror_mode": {
    "name": "ipython",
    "version": 3
   },
   "file_extension": ".py",
   "mimetype": "text/x-python",
   "name": "python",
   "nbconvert_exporter": "python",
   "pygments_lexer": "ipython3",
   "version": "3.8.1"
  }
 },
 "nbformat": 4,
 "nbformat_minor": 2
}
